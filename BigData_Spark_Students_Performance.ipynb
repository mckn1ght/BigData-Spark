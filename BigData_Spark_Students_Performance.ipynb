{
  "nbformat": 4,
  "nbformat_minor": 0,
  "metadata": {
    "colab": {
      "provenance": []
    },
    "kernelspec": {
      "name": "python3",
      "display_name": "Python 3"
    },
    "language_info": {
      "name": "python"
    }
  },
  "cells": [
    {
      "cell_type": "code",
      "execution_count": 1,
      "metadata": {
        "id": "C3ciVMJxEuAv",
        "colab": {
          "base_uri": "https://localhost:8080/"
        },
        "outputId": "e57abff2-367b-460d-f377-b405e73e7264"
      },
      "outputs": [
        {
          "output_type": "stream",
          "name": "stdout",
          "text": [
            "Looking in indexes: https://pypi.org/simple, https://us-python.pkg.dev/colab-wheels/public/simple/\n",
            "Collecting pyspark\n",
            "  Downloading pyspark-3.4.0.tar.gz (310.8 MB)\n",
            "\u001b[2K     \u001b[90m━━━━━━━━━━━━━━━━━━━━━━━━━━━━━━━━━━━━━━━\u001b[0m \u001b[32m310.8/310.8 MB\u001b[0m \u001b[31m4.3 MB/s\u001b[0m eta \u001b[36m0:00:00\u001b[0m\n",
            "\u001b[?25h  Preparing metadata (setup.py) ... \u001b[?25l\u001b[?25hdone\n",
            "Requirement already satisfied: py4j==0.10.9.7 in /usr/local/lib/python3.10/dist-packages (from pyspark) (0.10.9.7)\n",
            "Building wheels for collected packages: pyspark\n",
            "  Building wheel for pyspark (setup.py) ... \u001b[?25l\u001b[?25hdone\n",
            "  Created wheel for pyspark: filename=pyspark-3.4.0-py2.py3-none-any.whl size=311317130 sha256=6790ab854e6a9ad80d7185ed3e4c5f1e02150ed070448c005ecf15128ad0c157\n",
            "  Stored in directory: /root/.cache/pip/wheels/7b/1b/4b/3363a1d04368e7ff0d408e57ff57966fcdf00583774e761327\n",
            "Successfully built pyspark\n",
            "Installing collected packages: pyspark\n",
            "Successfully installed pyspark-3.4.0\n"
          ]
        }
      ],
      "source": [
        "!pip install pyspark\n",
        "\n",
        "from pyspark.sql import SparkSession\n"
      ]
    },
    {
      "cell_type": "code",
      "source": [
        "spark = SparkSession.builder.master(\"local[*]\").getOrCreate() #Seteaza numarul de core-uri de utilizat (* = toate)\n",
        "\n",
        "csv_path = \"/content/Students/StudentsPerformance/\" #Locatia datelor noastre\n",
        "\n",
        "df = spark.read.csv(csv_path, header=True, inferSchema=True) #Incarcarea datelor din CSV intr-un dataframe Spark"
      ],
      "metadata": {
        "id": "Os2EWH2aE7hi"
      },
      "execution_count": 2,
      "outputs": []
    },
    {
      "cell_type": "code",
      "source": [
        "table_name = \"my_table\" #definirea unei variabile table_name\n",
        "df.createOrReplaceTempView(table_name) #crearea unui view temporar\n",
        "query = \"SELECT * FROM my_table\" #definirea unei interogari SQL\n",
        "result = spark.sql(query) #rularea interogarii\n",
        "result.show() #afisarea rezultatelor"
      ],
      "metadata": {
        "colab": {
          "base_uri": "https://localhost:8080/"
        },
        "id": "UozC0iRomvU8",
        "outputId": "f8968fbd-632e-4c5f-fb59-2b07f75c818e"
      },
      "execution_count": 3,
      "outputs": [
        {
          "output_type": "stream",
          "name": "stdout",
          "text": [
            "+------+--------------+---------------------------+------------+-----------------------+----------+-------------+-------------+\n",
            "|gender|race/ethnicity|parental level of education|       lunch|test preparation course|math score|reading score|writing score|\n",
            "+------+--------------+---------------------------+------------+-----------------------+----------+-------------+-------------+\n",
            "|female|       group B|          bachelor's degree|    standard|                   none|        72|           72|           74|\n",
            "|female|       group C|               some college|    standard|              completed|        69|           90|           88|\n",
            "|female|       group B|            master's degree|    standard|                   none|        90|           95|           93|\n",
            "|  male|       group A|         associate's degree|free/reduced|                   none|        47|           57|           44|\n",
            "|  male|       group C|               some college|    standard|                   none|        76|           78|           75|\n",
            "|female|       group B|         associate's degree|    standard|                   none|        71|           83|           78|\n",
            "|female|       group B|               some college|    standard|              completed|        88|           95|           92|\n",
            "|  male|       group B|               some college|free/reduced|                   none|        40|           43|           39|\n",
            "|  male|       group D|                high school|free/reduced|              completed|        64|           64|           67|\n",
            "|female|       group B|                high school|free/reduced|                   none|        38|           60|           50|\n",
            "|  male|       group C|         associate's degree|    standard|                   none|        58|           54|           52|\n",
            "|  male|       group D|         associate's degree|    standard|                   none|        40|           52|           43|\n",
            "|female|       group B|                high school|    standard|                   none|        65|           81|           73|\n",
            "|  male|       group A|               some college|    standard|              completed|        78|           72|           70|\n",
            "|female|       group A|            master's degree|    standard|                   none|        50|           53|           58|\n",
            "|female|       group C|           some high school|    standard|                   none|        69|           75|           78|\n",
            "|  male|       group C|                high school|    standard|                   none|        88|           89|           86|\n",
            "|female|       group B|           some high school|free/reduced|                   none|        18|           32|           28|\n",
            "|  male|       group C|            master's degree|free/reduced|              completed|        46|           42|           46|\n",
            "|female|       group C|         associate's degree|free/reduced|                   none|        54|           58|           61|\n",
            "+------+--------------+---------------------------+------------+-----------------------+----------+-------------+-------------+\n",
            "only showing top 20 rows\n",
            "\n"
          ]
        }
      ]
    },
    {
      "cell_type": "code",
      "source": [
        "df.printSchema() #afisarea schemei datelor"
      ],
      "metadata": {
        "colab": {
          "base_uri": "https://localhost:8080/"
        },
        "id": "K4kx8nECsRYx",
        "outputId": "32099bd2-36d6-4ab3-eac6-a204c2a4e491"
      },
      "execution_count": 4,
      "outputs": [
        {
          "output_type": "stream",
          "name": "stdout",
          "text": [
            "root\n",
            " |-- gender: string (nullable = true)\n",
            " |-- race/ethnicity: string (nullable = true)\n",
            " |-- parental level of education: string (nullable = true)\n",
            " |-- lunch: string (nullable = true)\n",
            " |-- test preparation course: string (nullable = true)\n",
            " |-- math score: integer (nullable = true)\n",
            " |-- reading score: integer (nullable = true)\n",
            " |-- writing score: integer (nullable = true)\n",
            "\n"
          ]
        }
      ]
    },
    {
      "cell_type": "code",
      "source": [
        "df.describe().show()\n"
      ],
      "metadata": {
        "colab": {
          "base_uri": "https://localhost:8080/"
        },
        "id": "3VCzy-9Pvzwb",
        "outputId": "e7d551dd-8187-447e-95f6-cad9e2a70556"
      },
      "execution_count": 5,
      "outputs": [
        {
          "output_type": "stream",
          "name": "stdout",
          "text": [
            "+-------+------+--------------+---------------------------+------------+-----------------------+------------------+------------------+-----------------+\n",
            "|summary|gender|race/ethnicity|parental level of education|       lunch|test preparation course|        math score|     reading score|    writing score|\n",
            "+-------+------+--------------+---------------------------+------------+-----------------------+------------------+------------------+-----------------+\n",
            "|  count|  1000|          1000|                       1000|        1000|                   1000|              1000|              1000|             1000|\n",
            "|   mean|  null|          null|                       null|        null|                   null|            66.089|            69.169|           68.054|\n",
            "| stddev|  null|          null|                       null|        null|                   null|15.163080096009454|14.600191937252223|15.19565701086966|\n",
            "|    min|female|       group A|         associate's degree|free/reduced|              completed|                 0|                17|               10|\n",
            "|    max|  male|       group E|           some high school|    standard|                   none|               100|               100|              100|\n",
            "+-------+------+--------------+---------------------------+------------+-----------------------+------------------+------------------+-----------------+\n",
            "\n"
          ]
        }
      ]
    },
    {
      "cell_type": "code",
      "source": [
        "df = df.withColumnRenamed('parental level of education', 'parentEducation')\n",
        "df = df.withColumnRenamed('test preparation course', 'preparationCourse')\n",
        "df = df.withColumnRenamed('math score', 'mathScore')\n",
        "df = df.withColumnRenamed('reading score', 'readingScore')\n",
        "df = df.withColumnRenamed('writing score', 'writingScore')\n",
        "df.describe().show()\n",
        "df.write.format('csv').mode('overwrite').option('header', 'true').save('/content/Students/StudentsPerformanceFormatted')\n"
      ],
      "metadata": {
        "id": "9Ac-0yoly6yJ",
        "colab": {
          "base_uri": "https://localhost:8080/"
        },
        "outputId": "65d24d6d-76f9-4a38-f636-8d4da708a02e"
      },
      "execution_count": 6,
      "outputs": [
        {
          "output_type": "stream",
          "name": "stdout",
          "text": [
            "+-------+------+--------------+------------------+------------+-----------------+------------------+------------------+-----------------+\n",
            "|summary|gender|race/ethnicity|   parentEducation|       lunch|preparationCourse|         mathScore|      readingScore|     writingScore|\n",
            "+-------+------+--------------+------------------+------------+-----------------+------------------+------------------+-----------------+\n",
            "|  count|  1000|          1000|              1000|        1000|             1000|              1000|              1000|             1000|\n",
            "|   mean|  null|          null|              null|        null|             null|            66.089|            69.169|           68.054|\n",
            "| stddev|  null|          null|              null|        null|             null|15.163080096009454|14.600191937252223|15.19565701086966|\n",
            "|    min|female|       group A|associate's degree|free/reduced|        completed|                 0|                17|               10|\n",
            "|    max|  male|       group E|  some high school|    standard|             none|               100|               100|              100|\n",
            "+-------+------+--------------+------------------+------------+-----------------+------------------+------------------+-----------------+\n",
            "\n"
          ]
        }
      ]
    },
    {
      "cell_type": "code",
      "source": [
        "csv_path = \"/content/Students/StudentsPerformanceFormatted\" #salvam locatia csv-ului formatat intr-o noua variabila\n",
        "df = spark.read.csv(csv_path, header=True, inferSchema=True) #incarcam noile date\n",
        "from pyspark.sql.functions import col, round, format_number, when #importam lucrul cu coloane\n",
        "\n",
        "df = df.withColumn('finalScore', (col('mathScore') + col('readingScore') + col('writingScore'))/3) #mai adaugam o coloana care determina media generala\n",
        "df = df.withColumn('finalScore', format_number(col('finalScore'), 2)) #afisam doar 2 decimale in aceasta noua coloana\n",
        "df = df.withColumn('admited', when(col('finalScore') > 50 , True).otherwise(False))#mai adaugam o coloana care va afisa true pentru cazul in care studentul a fost admis(finalScore > 50) sau false pentru cazul in care nu a fost admis(finalScore < 50)\n",
        "df.show()#afisam rezultatele\n",
        "#Salvam dataframe-ul modificat \n",
        "df.write.mode('overwrite').format('csv').option('header', 'true').save('/content/Students/StudentsPerformanceFormatted2')"
      ],
      "metadata": {
        "colab": {
          "base_uri": "https://localhost:8080/"
        },
        "id": "nTgJCBpcd80a",
        "outputId": "06b23510-85ce-4f95-a8b5-b0de8d3f9df1"
      },
      "execution_count": 7,
      "outputs": [
        {
          "output_type": "stream",
          "name": "stdout",
          "text": [
            "+------+--------------+------------------+------------+-----------------+---------+------------+------------+----------+-------+\n",
            "|gender|race/ethnicity|   parentEducation|       lunch|preparationCourse|mathScore|readingScore|writingScore|finalScore|admited|\n",
            "+------+--------------+------------------+------------+-----------------+---------+------------+------------+----------+-------+\n",
            "|female|       group B| bachelor's degree|    standard|             none|       72|          72|          74|     72.67|   true|\n",
            "|female|       group C|      some college|    standard|        completed|       69|          90|          88|     82.33|   true|\n",
            "|female|       group B|   master's degree|    standard|             none|       90|          95|          93|     92.67|   true|\n",
            "|  male|       group A|associate's degree|free/reduced|             none|       47|          57|          44|     49.33|  false|\n",
            "|  male|       group C|      some college|    standard|             none|       76|          78|          75|     76.33|   true|\n",
            "|female|       group B|associate's degree|    standard|             none|       71|          83|          78|     77.33|   true|\n",
            "|female|       group B|      some college|    standard|        completed|       88|          95|          92|     91.67|   true|\n",
            "|  male|       group B|      some college|free/reduced|             none|       40|          43|          39|     40.67|  false|\n",
            "|  male|       group D|       high school|free/reduced|        completed|       64|          64|          67|     65.00|   true|\n",
            "|female|       group B|       high school|free/reduced|             none|       38|          60|          50|     49.33|  false|\n",
            "|  male|       group C|associate's degree|    standard|             none|       58|          54|          52|     54.67|   true|\n",
            "|  male|       group D|associate's degree|    standard|             none|       40|          52|          43|     45.00|  false|\n",
            "|female|       group B|       high school|    standard|             none|       65|          81|          73|     73.00|   true|\n",
            "|  male|       group A|      some college|    standard|        completed|       78|          72|          70|     73.33|   true|\n",
            "|female|       group A|   master's degree|    standard|             none|       50|          53|          58|     53.67|   true|\n",
            "|female|       group C|  some high school|    standard|             none|       69|          75|          78|     74.00|   true|\n",
            "|  male|       group C|       high school|    standard|             none|       88|          89|          86|     87.67|   true|\n",
            "|female|       group B|  some high school|free/reduced|             none|       18|          32|          28|     26.00|  false|\n",
            "|  male|       group C|   master's degree|free/reduced|        completed|       46|          42|          46|     44.67|  false|\n",
            "|female|       group C|associate's degree|free/reduced|             none|       54|          58|          61|     57.67|   true|\n",
            "+------+--------------+------------------+------------+-----------------+---------+------------+------------+----------+-------+\n",
            "only showing top 20 rows\n",
            "\n"
          ]
        }
      ]
    },
    {
      "cell_type": "code",
      "source": [
        "df.printSchema() #afisarea schemei datelor"
      ],
      "metadata": {
        "id": "dp1x71pqxlRH",
        "colab": {
          "base_uri": "https://localhost:8080/"
        },
        "outputId": "ba5d695e-0bfc-4a87-96bb-16c96de81e8f"
      },
      "execution_count": 8,
      "outputs": [
        {
          "output_type": "stream",
          "name": "stdout",
          "text": [
            "root\n",
            " |-- gender: string (nullable = true)\n",
            " |-- race/ethnicity: string (nullable = true)\n",
            " |-- parentEducation: string (nullable = true)\n",
            " |-- lunch: string (nullable = true)\n",
            " |-- preparationCourse: string (nullable = true)\n",
            " |-- mathScore: integer (nullable = true)\n",
            " |-- readingScore: integer (nullable = true)\n",
            " |-- writingScore: integer (nullable = true)\n",
            " |-- finalScore: string (nullable = true)\n",
            " |-- admited: boolean (nullable = false)\n",
            "\n"
          ]
        }
      ]
    },
    {
      "cell_type": "code",
      "source": [
        "\n",
        " \n",
        "#salvam locatia csv-ului formatat intr-o noua variabila\n",
        "csv_path = \"/content/Students/StudentsPerformanceFormatted2\"\n",
        "\n",
        "#incarcam noile date\n",
        "df = spark.read.csv(csv_path, header=True, inferSchema=True) \n",
        "\n",
        "df.show()"
      ],
      "metadata": {
        "id": "zZitqp6XyTjh",
        "colab": {
          "base_uri": "https://localhost:8080/"
        },
        "outputId": "ec2a24d7-fe5d-4293-a88c-bc6d147a3af2"
      },
      "execution_count": 9,
      "outputs": [
        {
          "output_type": "stream",
          "name": "stdout",
          "text": [
            "+------+--------------+------------------+------------+-----------------+---------+------------+------------+----------+-------+\n",
            "|gender|race/ethnicity|   parentEducation|       lunch|preparationCourse|mathScore|readingScore|writingScore|finalScore|admited|\n",
            "+------+--------------+------------------+------------+-----------------+---------+------------+------------+----------+-------+\n",
            "|female|       group B| bachelor's degree|    standard|             none|       72|          72|          74|     72.67|   true|\n",
            "|female|       group C|      some college|    standard|        completed|       69|          90|          88|     82.33|   true|\n",
            "|female|       group B|   master's degree|    standard|             none|       90|          95|          93|     92.67|   true|\n",
            "|  male|       group A|associate's degree|free/reduced|             none|       47|          57|          44|     49.33|  false|\n",
            "|  male|       group C|      some college|    standard|             none|       76|          78|          75|     76.33|   true|\n",
            "|female|       group B|associate's degree|    standard|             none|       71|          83|          78|     77.33|   true|\n",
            "|female|       group B|      some college|    standard|        completed|       88|          95|          92|     91.67|   true|\n",
            "|  male|       group B|      some college|free/reduced|             none|       40|          43|          39|     40.67|  false|\n",
            "|  male|       group D|       high school|free/reduced|        completed|       64|          64|          67|      65.0|   true|\n",
            "|female|       group B|       high school|free/reduced|             none|       38|          60|          50|     49.33|  false|\n",
            "|  male|       group C|associate's degree|    standard|             none|       58|          54|          52|     54.67|   true|\n",
            "|  male|       group D|associate's degree|    standard|             none|       40|          52|          43|      45.0|  false|\n",
            "|female|       group B|       high school|    standard|             none|       65|          81|          73|      73.0|   true|\n",
            "|  male|       group A|      some college|    standard|        completed|       78|          72|          70|     73.33|   true|\n",
            "|female|       group A|   master's degree|    standard|             none|       50|          53|          58|     53.67|   true|\n",
            "|female|       group C|  some high school|    standard|             none|       69|          75|          78|      74.0|   true|\n",
            "|  male|       group C|       high school|    standard|             none|       88|          89|          86|     87.67|   true|\n",
            "|female|       group B|  some high school|free/reduced|             none|       18|          32|          28|      26.0|  false|\n",
            "|  male|       group C|   master's degree|free/reduced|        completed|       46|          42|          46|     44.67|  false|\n",
            "|female|       group C|associate's degree|free/reduced|             none|       54|          58|          61|     57.67|   true|\n",
            "+------+--------------+------------------+------------+-----------------+---------+------------+------------+----------+-------+\n",
            "only showing top 20 rows\n",
            "\n"
          ]
        }
      ]
    },
    {
      "cell_type": "markdown",
      "source": [
        "SPARK SQL"
      ],
      "metadata": {
        "id": "LOkgyYtNfk4B"
      }
    },
    {
      "cell_type": "markdown",
      "source": [
        "1.Sa se afiseze toti studenții care nu au obținut o nota de trecere la matematica ordonand de la cea mai mica nota"
      ],
      "metadata": {
        "id": "fVBdPk4xgota"
      }
    },
    {
      "cell_type": "code",
      "source": [
        "df.createOrReplaceTempView(\"students\")\n",
        "\n",
        "result = spark.sql(\"SELECT * FROM students WHERE mathScore < 50 ORDER BY mathScore ASC\")\n",
        "result.show()\n"
      ],
      "metadata": {
        "colab": {
          "base_uri": "https://localhost:8080/"
        },
        "id": "ey1q-jWHV5_E",
        "outputId": "8873cd74-76f7-499a-b5c2-c2a06ba2d1ee"
      },
      "execution_count": 10,
      "outputs": [
        {
          "output_type": "stream",
          "name": "stdout",
          "text": [
            "+------+--------------+------------------+------------+-----------------+---------+------------+------------+----------+-------+\n",
            "|gender|race/ethnicity|   parentEducation|       lunch|preparationCourse|mathScore|readingScore|writingScore|finalScore|admited|\n",
            "+------+--------------+------------------+------------+-----------------+---------+------------+------------+----------+-------+\n",
            "|female|       group C|  some high school|free/reduced|             none|        0|          17|          10|       9.0|  false|\n",
            "|female|       group B|       high school|free/reduced|             none|        8|          24|          23|     18.33|  false|\n",
            "|female|       group B|  some high school|free/reduced|             none|       18|          32|          28|      26.0|  false|\n",
            "|female|       group B|      some college|    standard|             none|       19|          38|          32|     29.67|  false|\n",
            "|female|       group C|      some college|free/reduced|             none|       22|          39|          33|     31.33|  false|\n",
            "|female|       group B|       high school|free/reduced|        completed|       23|          44|          36|     34.33|  false|\n",
            "|female|       group B|  some high school|free/reduced|             none|       24|          38|          27|     29.67|  false|\n",
            "|female|       group D|associate's degree|free/reduced|             none|       26|          31|          38|     31.67|  false|\n",
            "|  male|       group C|       high school|free/reduced|             none|       27|          34|          36|     32.33|  false|\n",
            "|female|       group D|  some high school|free/reduced|             none|       27|          34|          32|      31.0|  false|\n",
            "|  male|       group A|      some college|free/reduced|             none|       28|          23|          19|     23.33|  false|\n",
            "|female|       group C|       high school|    standard|             none|       29|          29|          30|     29.33|  false|\n",
            "|female|       group D| bachelor's degree|free/reduced|             none|       29|          41|          47|      39.0|  false|\n",
            "|female|       group C|  some high school|free/reduced|        completed|       29|          40|          44|     37.67|  false|\n",
            "|  male|       group E|  some high school|    standard|             none|       30|          26|          22|      26.0|  false|\n",
            "|  male|       group B|       high school|free/reduced|             none|       30|          24|          15|      23.0|  false|\n",
            "|female|       group C|      some college|free/reduced|             none|       32|          39|          33|     34.67|  false|\n",
            "|female|       group B|  some high school|    standard|        completed|       32|          51|          44|     42.33|  false|\n",
            "|female|       group E|  some high school|free/reduced|             none|       32|          34|          38|     34.67|  false|\n",
            "|female|       group C|       high school|free/reduced|             none|       33|          41|          43|      39.0|  false|\n",
            "+------+--------------+------------------+------------+-----------------+---------+------------+------------+----------+-------+\n",
            "only showing top 20 rows\n",
            "\n"
          ]
        }
      ]
    },
    {
      "cell_type": "markdown",
      "source": [
        "2.Sa se afiseze studentii care nu au fost admiși și nivelul de pregătire al părinților"
      ],
      "metadata": {
        "id": "Ns1EflETj7tP"
      }
    },
    {
      "cell_type": "code",
      "source": [
        "result = spark.sql(\"SELECT admited, parentEducation FROM students WHERE admited == 'false' ORDER BY parentEducation\")\n",
        "\n",
        "result.show()\n"
      ],
      "metadata": {
        "colab": {
          "base_uri": "https://localhost:8080/"
        },
        "id": "GlRd2H73j_HO",
        "outputId": "730bd9e6-cf83-4930-bf2e-4837374142b3"
      },
      "execution_count": 11,
      "outputs": [
        {
          "output_type": "stream",
          "name": "stdout",
          "text": [
            "+-------+------------------+\n",
            "|admited|   parentEducation|\n",
            "+-------+------------------+\n",
            "|  false|associate's degree|\n",
            "|  false|associate's degree|\n",
            "|  false|associate's degree|\n",
            "|  false|associate's degree|\n",
            "|  false|associate's degree|\n",
            "|  false|associate's degree|\n",
            "|  false|associate's degree|\n",
            "|  false|associate's degree|\n",
            "|  false|associate's degree|\n",
            "|  false|associate's degree|\n",
            "|  false|associate's degree|\n",
            "|  false|associate's degree|\n",
            "|  false|associate's degree|\n",
            "|  false|associate's degree|\n",
            "|  false|associate's degree|\n",
            "|  false|associate's degree|\n",
            "|  false|associate's degree|\n",
            "|  false|associate's degree|\n",
            "|  false|associate's degree|\n",
            "|  false|associate's degree|\n",
            "+-------+------------------+\n",
            "only showing top 20 rows\n",
            "\n"
          ]
        }
      ]
    },
    {
      "cell_type": "markdown",
      "source": [
        "3. Sa se afiseze numarul de studenti care au fost admisi"
      ],
      "metadata": {
        "id": "e_ZdRsWQkun0"
      }
    },
    {
      "cell_type": "code",
      "source": [
        "result = spark.sql(\"SELECT COUNT(*) AS TotalAdmisi FROM students WHERE admited == 'true'\")\n",
        "\n",
        "result.show()\n"
      ],
      "metadata": {
        "colab": {
          "base_uri": "https://localhost:8080/"
        },
        "id": "w6KQutDukrHr",
        "outputId": "b3d88288-2bfb-43f3-d8d0-86e987c2fa04"
      },
      "execution_count": 12,
      "outputs": [
        {
          "output_type": "stream",
          "name": "stdout",
          "text": [
            "+-----------+\n",
            "|TotalAdmisi|\n",
            "+-----------+\n",
            "|        880|\n",
            "+-----------+\n",
            "\n"
          ]
        }
      ]
    },
    {
      "cell_type": "markdown",
      "source": [
        "4. Sa se afiseze numarul total de studenti respinsi"
      ],
      "metadata": {
        "id": "cCGOu1MMlqQx"
      }
    },
    {
      "cell_type": "code",
      "source": [
        "result = spark.sql(\"SELECT COUNT(*) AS TotalRespinsi FROM students WHERE admited == 'false'\")\n",
        "\n",
        "result.show()\n"
      ],
      "metadata": {
        "colab": {
          "base_uri": "https://localhost:8080/"
        },
        "id": "qbMy4ofQltzU",
        "outputId": "7e6008bd-399e-4fa4-a66f-97abd99334c1"
      },
      "execution_count": 13,
      "outputs": [
        {
          "output_type": "stream",
          "name": "stdout",
          "text": [
            "+-------------+\n",
            "|TotalRespinsi|\n",
            "+-------------+\n",
            "|          120|\n",
            "+-------------+\n",
            "\n"
          ]
        }
      ]
    },
    {
      "cell_type": "markdown",
      "source": [
        "5. Sa se afișeze studenții care nu au fost admiși dar, totuși, au urmat cursul de pregătire "
      ],
      "metadata": {
        "id": "oeOKX3kumH1n"
      }
    },
    {
      "cell_type": "code",
      "source": [
        "result = spark.sql(\"SELECT * FROM students WHERE admited == 'false' AND preparationCourse == 'completed' \")\n",
        "\n",
        "result.show()\n"
      ],
      "metadata": {
        "colab": {
          "base_uri": "https://localhost:8080/"
        },
        "id": "InbrXigWmJTE",
        "outputId": "b27cc6f5-8fea-456f-e2f0-8b33ed935970"
      },
      "execution_count": 14,
      "outputs": [
        {
          "output_type": "stream",
          "name": "stdout",
          "text": [
            "+------+--------------+------------------+------------+-----------------+---------+------------+------------+----------+-------+\n",
            "|gender|race/ethnicity|   parentEducation|       lunch|preparationCourse|mathScore|readingScore|writingScore|finalScore|admited|\n",
            "+------+--------------+------------------+------------+-----------------+---------+------------+------------+----------+-------+\n",
            "|  male|       group C|   master's degree|free/reduced|        completed|       46|          42|          46|     44.67|  false|\n",
            "|  male|       group A|      some college|free/reduced|        completed|       50|          47|          54|     50.33|  false|\n",
            "|  male|       group C|associate's degree|free/reduced|        completed|       43|          45|          50|      46.0|  false|\n",
            "|  male|       group B|       high school|    standard|        completed|       60|          44|          47|     50.33|  false|\n",
            "|  male|       group C|  some high school|free/reduced|        completed|       53|          37|          40|     43.33|  false|\n",
            "|  male|       group B|  some high school|    standard|        completed|       51|          54|          41|     48.67|  false|\n",
            "|female|       group E|      some college|free/reduced|        completed|       42|          55|          54|     50.33|  false|\n",
            "|female|       group C| bachelor's degree|free/reduced|        completed|       43|          51|          54|     49.33|  false|\n",
            "|  male|       group C|  some high school|free/reduced|        completed|       45|          52|          49|     48.67|  false|\n",
            "|  male|       group A|  some high school|    standard|        completed|       47|          49|          49|     48.33|  false|\n",
            "|  male|       group A|  some high school|    standard|        completed|       46|          41|          43|     43.33|  false|\n",
            "|  male|       group C|       high school|free/reduced|        completed|       40|          46|          50|     45.33|  false|\n",
            "|female|       group D|  some high school|free/reduced|        completed|       35|          55|          60|      50.0|  false|\n",
            "|  male|       group C|      some college|free/reduced|        completed|       50|          48|          53|     50.33|  false|\n",
            "|  male|       group A|associate's degree|free/reduced|        completed|       40|          55|          53|     49.33|  false|\n",
            "|female|       group C|  some high school|    standard|        completed|       44|          51|          55|      50.0|  false|\n",
            "|female|       group C|  some high school|free/reduced|        completed|       29|          40|          44|     37.67|  false|\n",
            "|female|       group B|  some high school|    standard|        completed|       32|          51|          44|     42.33|  false|\n",
            "|  male|       group E|      some college|free/reduced|        completed|       49|          52|          51|     50.67|  false|\n",
            "|female|       group B|       high school|free/reduced|        completed|       23|          44|          36|     34.33|  false|\n",
            "+------+--------------+------------------+------------+-----------------+---------+------------+------------+----------+-------+\n",
            "only showing top 20 rows\n",
            "\n"
          ]
        }
      ]
    },
    {
      "cell_type": "markdown",
      "source": [
        "6. Sa se afiseze nota medie la matematica pe fiecare gen:"
      ],
      "metadata": {
        "id": "i8V8cr6vmmYJ"
      }
    },
    {
      "cell_type": "code",
      "source": [
        "result = spark.sql(\"SELECT gender, FORMAT_NUMBER(AVG(mathScore), 2) AS NotaMedieLaMatematica FROM students GROUP BY gender\")\n",
        "result.show()\n",
        "\n"
      ],
      "metadata": {
        "colab": {
          "base_uri": "https://localhost:8080/"
        },
        "id": "AtSCiu7OmlDP",
        "outputId": "fc958f3c-3d99-44ed-9127-e3e106526d46"
      },
      "execution_count": 15,
      "outputs": [
        {
          "output_type": "stream",
          "name": "stdout",
          "text": [
            "+------+---------------------+\n",
            "|gender|NotaMedieLaMatematica|\n",
            "+------+---------------------+\n",
            "|female|                63.63|\n",
            "|  male|                68.73|\n",
            "+------+---------------------+\n",
            "\n"
          ]
        }
      ]
    },
    {
      "cell_type": "markdown",
      "source": [
        "7. Sa se calculeze nota medie la citit pe fiecare rasa/etnicitate"
      ],
      "metadata": {
        "id": "K3GclgcSmm8V"
      }
    },
    {
      "cell_type": "code",
      "source": [
        "result = spark.sql(\"SELECT `race/ethnicity`, FORMAT_NUMBER(AVG(readingScore), 2) AS NotaMedieLaCitit FROM students GROUP BY `race/ethnicity` \")\n",
        "result.show()"
      ],
      "metadata": {
        "colab": {
          "base_uri": "https://localhost:8080/"
        },
        "id": "-EgkNQz8mjsM",
        "outputId": "3f38b4fb-3a67-400f-89e6-ebd558c1ff81"
      },
      "execution_count": 16,
      "outputs": [
        {
          "output_type": "stream",
          "name": "stdout",
          "text": [
            "+--------------+----------------+\n",
            "|race/ethnicity|NotaMedieLaCitit|\n",
            "+--------------+----------------+\n",
            "|       group B|           67.35|\n",
            "|       group C|           69.10|\n",
            "|       group D|           70.03|\n",
            "|       group A|           64.67|\n",
            "|       group E|           73.03|\n",
            "+--------------+----------------+\n",
            "\n"
          ]
        }
      ]
    },
    {
      "cell_type": "markdown",
      "source": [
        "8. Sa se gaseasca numeral total de students pentru fiecare nivel de educatie al parintilor"
      ],
      "metadata": {
        "id": "zYLgjtDnmjhD"
      }
    },
    {
      "cell_type": "code",
      "source": [
        "result = spark.sql(\"SELECT parentEducation, COUNT(*) AS student_count FROM students GROUP BY parentEducation\")\n",
        "result.show()"
      ],
      "metadata": {
        "colab": {
          "base_uri": "https://localhost:8080/"
        },
        "id": "-7O_9YYQmxkw",
        "outputId": "eedb05c9-075e-4fe5-cbfd-a42a340ca9ad"
      },
      "execution_count": 17,
      "outputs": [
        {
          "output_type": "stream",
          "name": "stdout",
          "text": [
            "+------------------+-------------+\n",
            "|   parentEducation|student_count|\n",
            "+------------------+-------------+\n",
            "|  some high school|          179|\n",
            "|associate's degree|          222|\n",
            "|       high school|          196|\n",
            "| bachelor's degree|          118|\n",
            "|   master's degree|           59|\n",
            "|      some college|          226|\n",
            "+------------------+-------------+\n",
            "\n"
          ]
        }
      ]
    },
    {
      "cell_type": "markdown",
      "source": [
        "9. Sa se afiseze numeral de studenti admisi si procentajul pentru fiecare tip de prânz"
      ],
      "metadata": {
        "id": "Zv76YknXmx9Q"
      }
    },
    {
      "cell_type": "code",
      "source": [
        "result = spark.sql(\"SELECT lunch,  COUNT(*) AS totalStudents, SUM(CASE WHEN admited = 'Yes' THEN 1 ELSE 0 END) AS studentiAdmisi, FORMAT_NUMBER((SUM(CASE WHEN admited = 'Yes' THEN 1 ELSE 0 END) / COUNT(*)) * 100, 2) AS procentajAdmisi FROM students GROUP BY lunch\")\n",
        "result.show()"
      ],
      "metadata": {
        "colab": {
          "base_uri": "https://localhost:8080/"
        },
        "id": "DFCpX0o4myXj",
        "outputId": "3074397c-75f5-4b74-9f22-0bed8b692575"
      },
      "execution_count": 18,
      "outputs": [
        {
          "output_type": "stream",
          "name": "stdout",
          "text": [
            "+------------+-------------+--------------+---------------+\n",
            "|       lunch|totalStudents|studentiAdmisi|procentajAdmisi|\n",
            "+------------+-------------+--------------+---------------+\n",
            "|free/reduced|          355|           283|          79.72|\n",
            "|    standard|          645|           597|          92.56|\n",
            "+------------+-------------+--------------+---------------+\n",
            "\n"
          ]
        }
      ]
    },
    {
      "cell_type": "markdown",
      "source": [
        "10. Sa se afiseze nota medie la scris pe gen pentru studentii care au completat cursul de pregatire"
      ],
      "metadata": {
        "id": "nuZ6nO_7my9k"
      }
    },
    {
      "cell_type": "code",
      "source": [
        "result = spark.sql(\"SELECT gender, FORMAT_NUMBER(AVG(writingScore), 2) AS notaMedieLaScris FROM students WHERE preparationCourse = 'completed' GROUP BY gender\")\n",
        "result.show()"
      ],
      "metadata": {
        "colab": {
          "base_uri": "https://localhost:8080/"
        },
        "id": "zbllAJXUmzZY",
        "outputId": "7a5a4bc8-eb06-42f5-86a2-e3fc9ac48725"
      },
      "execution_count": 19,
      "outputs": [
        {
          "output_type": "stream",
          "name": "stdout",
          "text": [
            "+------+----------------+\n",
            "|gender|notaMedieLaScris|\n",
            "+------+----------------+\n",
            "|female|           78.79|\n",
            "|  male|           69.79|\n",
            "+------+----------------+\n",
            "\n"
          ]
        }
      ]
    },
    {
      "cell_type": "markdown",
      "source": [
        "Fltrari de data folosind Dataframes"
      ],
      "metadata": {
        "id": "FuFLKiJVr9GW"
      }
    },
    {
      "cell_type": "markdown",
      "source": [
        "1. Afisati toti studentii care nu au urmat cursul de pregatire, dar,totusi, au fost admisi."
      ],
      "metadata": {
        "id": "juQMDR1EsA78"
      }
    },
    {
      "cell_type": "code",
      "source": [
        "df.filter((df.preparationCourse == 'none') & (df.admited == 'true')).show()"
      ],
      "metadata": {
        "colab": {
          "base_uri": "https://localhost:8080/"
        },
        "id": "2YutDkosr8VM",
        "outputId": "2f986173-919d-4234-a766-3824b74d21f4"
      },
      "execution_count": 20,
      "outputs": [
        {
          "output_type": "stream",
          "name": "stdout",
          "text": [
            "+------+--------------+------------------+------------+-----------------+---------+------------+------------+----------+-------+\n",
            "|gender|race/ethnicity|   parentEducation|       lunch|preparationCourse|mathScore|readingScore|writingScore|finalScore|admited|\n",
            "+------+--------------+------------------+------------+-----------------+---------+------------+------------+----------+-------+\n",
            "|female|       group B| bachelor's degree|    standard|             none|       72|          72|          74|     72.67|   true|\n",
            "|female|       group B|   master's degree|    standard|             none|       90|          95|          93|     92.67|   true|\n",
            "|  male|       group C|      some college|    standard|             none|       76|          78|          75|     76.33|   true|\n",
            "|female|       group B|associate's degree|    standard|             none|       71|          83|          78|     77.33|   true|\n",
            "|  male|       group C|associate's degree|    standard|             none|       58|          54|          52|     54.67|   true|\n",
            "|female|       group B|       high school|    standard|             none|       65|          81|          73|      73.0|   true|\n",
            "|female|       group A|   master's degree|    standard|             none|       50|          53|          58|     53.67|   true|\n",
            "|female|       group C|  some high school|    standard|             none|       69|          75|          78|      74.0|   true|\n",
            "|  male|       group C|       high school|    standard|             none|       88|          89|          86|     87.67|   true|\n",
            "|female|       group C|associate's degree|free/reduced|             none|       54|          58|          61|     57.67|   true|\n",
            "|  male|       group D|       high school|    standard|             none|       66|          69|          63|      66.0|   true|\n",
            "|female|       group C|  some high school|    standard|             none|       69|          73|          73|     71.67|   true|\n",
            "|  male|       group A|   master's degree|free/reduced|             none|       73|          74|          72|      73.0|   true|\n",
            "|  male|       group B|      some college|    standard|             none|       69|          54|          55|     59.33|   true|\n",
            "|female|       group C| bachelor's degree|    standard|             none|       67|          69|          75|     70.33|   true|\n",
            "|  male|       group C|       high school|    standard|             none|       70|          70|          65|     68.33|   true|\n",
            "|female|       group D|   master's degree|    standard|             none|       62|          70|          75|      69.0|   true|\n",
            "|female|       group D|      some college|    standard|             none|       69|          74|          74|     72.33|   true|\n",
            "|female|       group B|      some college|    standard|             none|       63|          65|          61|      63.0|   true|\n",
            "|female|       group E|   master's degree|free/reduced|             none|       56|          72|          65|     64.33|   true|\n",
            "+------+--------------+------------------+------------+-----------------+---------+------------+------------+----------+-------+\n",
            "only showing top 20 rows\n",
            "\n"
          ]
        }
      ]
    },
    {
      "cell_type": "markdown",
      "source": [
        "2. Afisati toti studentii care nu au reusit sa obtina o nota de trecere la niciuna dintre materii"
      ],
      "metadata": {
        "id": "7erdBmP7tEPU"
      }
    },
    {
      "cell_type": "code",
      "source": [
        "df.filter((df.mathScore < 50) & (df.writingScore < 50 ) & (df.readingScore < 50 )).show()"
      ],
      "metadata": {
        "colab": {
          "base_uri": "https://localhost:8080/"
        },
        "id": "0c5CHWz0tD_c",
        "outputId": "b1c8110a-96b7-4e48-8426-0cb203287f6d"
      },
      "execution_count": 21,
      "outputs": [
        {
          "output_type": "stream",
          "name": "stdout",
          "text": [
            "+------+--------------+------------------+------------+-----------------+---------+------------+------------+----------+-------+\n",
            "|gender|race/ethnicity|   parentEducation|       lunch|preparationCourse|mathScore|readingScore|writingScore|finalScore|admited|\n",
            "+------+--------------+------------------+------------+-----------------+---------+------------+------------+----------+-------+\n",
            "|  male|       group B|      some college|free/reduced|             none|       40|          43|          39|     40.67|  false|\n",
            "|female|       group B|  some high school|free/reduced|             none|       18|          32|          28|      26.0|  false|\n",
            "|  male|       group C|   master's degree|free/reduced|        completed|       46|          42|          46|     44.67|  false|\n",
            "|  male|       group D|      some college|    standard|             none|       40|          42|          38|      40.0|  false|\n",
            "|female|       group C|       high school|free/reduced|             none|       33|          41|          43|      39.0|  false|\n",
            "|female|       group C|  some high school|free/reduced|             none|        0|          17|          10|       9.0|  false|\n",
            "|  male|       group A|  some high school|free/reduced|             none|       39|          39|          34|     37.33|  false|\n",
            "|  male|       group D|  some high school|free/reduced|             none|       45|          37|          37|     39.67|  false|\n",
            "|  male|       group C|  some high school|    standard|             none|       49|          49|          41|     46.33|  false|\n",
            "|  male|       group B|associate's degree|free/reduced|             none|       44|          41|          38|      41.0|  false|\n",
            "|  male|       group E|  some high school|    standard|             none|       30|          26|          22|      26.0|  false|\n",
            "|  male|       group B|       high school|free/reduced|             none|       49|          45|          45|     46.33|  false|\n",
            "|  male|       group D|       high school|free/reduced|             none|       42|          39|          34|     38.33|  false|\n",
            "|  male|       group C|       high school|free/reduced|             none|       27|          34|          36|     32.33|  false|\n",
            "|female|       group C|      some college|free/reduced|             none|       22|          39|          33|     31.33|  false|\n",
            "|  male|       group C|      some college|free/reduced|             none|       35|          28|          27|      30.0|  false|\n",
            "|female|       group C|       high school|free/reduced|             none|       34|          42|          39|     38.33|  false|\n",
            "|  male|       group C|associate's degree|    standard|             none|       46|          43|          42|     43.67|  false|\n",
            "|  male|       group A|  some high school|    standard|        completed|       47|          49|          49|     48.33|  false|\n",
            "|  male|       group D|       high school|    standard|             none|       45|          48|          46|     46.33|  false|\n",
            "+------+--------------+------------------+------------+-----------------+---------+------------+------------+----------+-------+\n",
            "only showing top 20 rows\n",
            "\n"
          ]
        }
      ]
    },
    {
      "cell_type": "markdown",
      "source": [
        "Machine Learning"
      ],
      "metadata": {
        "id": "Te7FzenYuPh3"
      }
    },
    {
      "cell_type": "markdown",
      "source": [
        "1. Vom aplica reglesia liniara pentru a estima nota unui student la citit bazandu-ne pe nivelul de educatie al parintilor, nota la scris si in functie de testul de pregatire."
      ],
      "metadata": {
        "id": "ZO58G74HuREd"
      }
    },
    {
      "cell_type": "code",
      "source": [
        "from pyspark.ml.feature import StringIndexer, VectorAssembler\n",
        "from pyspark.ml.regression import LinearRegression\n",
        "from pyspark.ml.evaluation import RegressionEvaluator\n",
        "from pyspark.ml import Pipeline\n",
        "\n",
        "spark = SparkSession.builder.appName(\"LinearRegression\").getOrCreate()\n",
        "\n",
        "# Incarcam datele formatate\n",
        "data = spark.read.csv('/content/Students/StudentsPerformanceFormatted2/', header=True, inferSchema=True)\n",
        "\n",
        "# Partea de preprocesare - Convertirea coloanelor categorice in numerice\n",
        "\n",
        "# Definim coloanele categorice pe care le vom folosi\n",
        "categorical_cols = ['parentEducation', 'preparationCourse']\n",
        "\n",
        "# Cream o lista pentru stocare\n",
        "indexers = []\n",
        "# Aplicam StringIndexer-ul pentru fiecare coloana categorica\n",
        "for col in categorical_cols:\n",
        "    indexer = StringIndexer(inputCol=col, outputCol=col + 'Index')\n",
        "    indexers.append(indexer)\n",
        "\n",
        "#Aplicam toti index-erii de mai sus intr-un mod secvential folosind un pipeline\n",
        "\n",
        "pipeline = Pipeline(stages=indexers)\n",
        "data = pipeline.fit(data).transform(data)\n",
        "\n",
        "data.printSchema()\n",
        "\n",
        "# Selectarea coloanelor si a coloanei tinta\n",
        "feature_cols = ['parentEducationIndex', 'writingScore', 'preparationCourseIndex']\n",
        "assembler = VectorAssembler(inputCols=feature_cols, outputCol='features')\n",
        "data = assembler.transform(data).select('features', 'readingScore')\n",
        "\n",
        "train_data, test_data = data.randomSplit([0.8, 0.2], seed=123)\n",
        "\n",
        "lr = LinearRegression(featuresCol='features', labelCol='readingScore')\n",
        "lr_model = lr.fit(train_data)\n",
        "\n",
        "predictions = lr_model.transform(test_data)\n",
        "predictions.select('features', 'readingScore', 'prediction').show()\n",
        "\n",
        "# Putem, de asemenea, calcula metricele de evaluare RMSE(root mean squared error) sau R-squared\n",
        "\n",
        "evaluator = RegressionEvaluator(labelCol='readingScore', predictionCol='prediction', metricName='rmse')\n",
        "rmse = evaluator.evaluate(predictions)\n",
        "print('Root Mean Squared Error (RMSE):', rmse)\n",
        "\n",
        "r2 = evaluator.evaluate(predictions, {evaluator.metricName: 'r2'})\n",
        "print('R-squared:', r2)\n",
        "\n"
      ],
      "metadata": {
        "colab": {
          "base_uri": "https://localhost:8080/"
        },
        "id": "afYibzBDuRtV",
        "outputId": "32e34286-0996-4f82-c87a-a67069c49935"
      },
      "execution_count": 22,
      "outputs": [
        {
          "output_type": "stream",
          "name": "stdout",
          "text": [
            "root\n",
            " |-- gender: string (nullable = true)\n",
            " |-- race/ethnicity: string (nullable = true)\n",
            " |-- parentEducation: string (nullable = true)\n",
            " |-- lunch: string (nullable = true)\n",
            " |-- preparationCourse: string (nullable = true)\n",
            " |-- mathScore: integer (nullable = true)\n",
            " |-- readingScore: integer (nullable = true)\n",
            " |-- writingScore: integer (nullable = true)\n",
            " |-- finalScore: double (nullable = true)\n",
            " |-- admited: boolean (nullable = true)\n",
            " |-- parentEducationIndex: double (nullable = false)\n",
            " |-- preparationCourseIndex: double (nullable = false)\n",
            "\n",
            "+--------------+------------+------------------+\n",
            "|      features|readingScore|        prediction|\n",
            "+--------------+------------+------------------+\n",
            "|[0.0,32.0,0.0]|          38| 35.92040773033145|\n",
            "|[0.0,37.0,0.0]|          39| 40.62788984312107|\n",
            "|[0.0,42.0,0.0]|          49|  45.3353719559107|\n",
            "|[0.0,43.0,0.0]|          43| 46.27686837846862|\n",
            "|[0.0,46.0,0.0]|          57|49.101357646142404|\n",
            "|[0.0,51.0,1.0]|          52|  51.6406952465792|\n",
            "|[0.0,52.0,1.0]|          51| 52.58219166913712|\n",
            "|[0.0,53.0,0.0]|          54|55.691832604047875|\n",
            "|[0.0,54.0,0.0]|          58| 56.63332902660579|\n",
            "|[0.0,54.0,0.0]|          60| 56.63332902660579|\n",
            "|[0.0,54.0,0.0]|          61| 56.63332902660579|\n",
            "|[0.0,55.0,0.0]|          53|57.574825449163725|\n",
            "|[0.0,55.0,0.0]|          65|57.574825449163725|\n",
            "|[0.0,58.0,0.0]|          57|60.399314716837495|\n",
            "|[0.0,60.0,0.0]|          58|62.282307561953345|\n",
            "|[0.0,60.0,1.0]|          62| 60.11416304960052|\n",
            "|[0.0,64.0,0.0]|          62| 66.04829325218505|\n",
            "|[0.0,65.0,0.0]|          68| 66.98978967474298|\n",
            "|[0.0,66.0,0.0]|          61|  67.9312860973009|\n",
            "|[0.0,67.0,0.0]|          67| 68.87278251985883|\n",
            "+--------------+------------+------------------+\n",
            "only showing top 20 rows\n",
            "\n",
            "Root Mean Squared Error (RMSE): 4.3594155121104805\n",
            "R-squared: 0.9160614660379927\n"
          ]
        }
      ]
    },
    {
      "cell_type": "markdown",
      "source": [
        "2.Vom folosi arbori de decizie pentru a prezice coloana admited. Coloana Admited reprezinta daca un student a fost admis sau nu. Arborele de decizie va fi antrenat pe baza celorlalte features(coloane): gender, race/ethnicity, parentEducation, lunch si preparationCourse pentru a prezice daca un student a fost admis sau nu. \n"
      ],
      "metadata": {
        "id": "t46jiuVAxA8d"
      }
    },
    {
      "cell_type": "code",
      "source": [
        "from pyspark.sql import SparkSession\n",
        "from pyspark.ml.feature import StringIndexer, VectorAssembler\n",
        "from pyspark.ml.classification import DecisionTreeClassifier\n",
        "from pyspark.ml.evaluation import BinaryClassificationEvaluator\n",
        "\n",
        "spark = SparkSession.builder.appName(\"DecisionTreeExample\").getOrCreate()\n",
        "\n",
        "data = spark.read.csv(\"/content/Students/StudentsPerformanceFormatted2/\", header=True, inferSchema=True)\n",
        "\n",
        "#Convertim variabilele categorice in reprezentari numerice folosind StringIndexer\n",
        "indexers = [\n",
        "    StringIndexer(inputCol=column, outputCol=column + \"_index\").fit(data)\n",
        "    for column in [\"gender\", \"race/ethnicity\", \"parentEducation\", \"lunch\", \"preparationCourse\"]\n",
        "]\n",
        "indexed_data = data\n",
        "for indexer in indexers:\n",
        "    indexed_data = indexer.transform(indexed_data)\n",
        "\n",
        "# Asamblam coloanele intr-un vector\n",
        "feature_columns = [\"gender_index\", \"race/ethnicity_index\", \"parentEducation_index\", \"lunch_index\", \"preparationCourse_index\"]\n",
        "assembler = VectorAssembler(inputCols=feature_columns, outputCol=\"features\")\n",
        "indexed_data_assembled = assembler.transform(indexed_data)\n",
        "\n",
        "# Convertim coloana admited din boolean in numeric\n",
        "indexed_data_assembled = indexed_data_assembled.withColumn(\"admited\", indexed_data_assembled[\"admited\"].cast(\"integer\"))\n",
        "\n",
        "# Impartim datele in seturile de testare si de antrenare\n",
        "train_data, test_data = indexed_data_assembled.randomSplit([0.8, 0.2], seed=42)\n",
        "\n",
        "# Cream o instanta de decision tree classifier\n",
        "decision_tree = DecisionTreeClassifier(labelCol=\"admited\", featuresCol=\"features\", seed=42)\n",
        "\n",
        "#Antrenam modelul pe datele de train\n",
        "model = decision_tree.fit(train_data)\n",
        "\n",
        "#Facem predictii pe setul de test\n",
        "predictions = model.transform(test_data)\n",
        "\n",
        "# Evaluam modelul folosind BinaryClassificationEvaluator\n",
        "evaluator = BinaryClassificationEvaluator(labelCol=\"admited\")\n",
        "accuracy = evaluator.evaluate(predictions)\n",
        "print(\"Accuracy:\", accuracy)\n",
        "predictions.select(\"admited\", \"prediction\", \"probability\").show()\n",
        "#predictions.select(\"admited\", \"prediction\", \"probability\").show(predictions.count(), False)\n"
      ],
      "metadata": {
        "id": "d-rPsN112ATM",
        "outputId": "2c5ade08-f714-4081-f869-5fcfd7a03e12",
        "colab": {
          "base_uri": "https://localhost:8080/"
        }
      },
      "execution_count": 58,
      "outputs": [
        {
          "output_type": "stream",
          "name": "stdout",
          "text": [
            "Accuracy: 0.6535211267605634\n",
            "+-------+----------+--------------------+\n",
            "|admited|prediction|         probability|\n",
            "+-------+----------+--------------------+\n",
            "|      1|       0.0|           [1.0,0.0]|\n",
            "|      1|       1.0|[0.07434944237918...|\n",
            "|      1|       1.0|[0.07434944237918...|\n",
            "|      1|       1.0|[0.07434944237918...|\n",
            "|      1|       1.0|[0.33333333333333...|\n",
            "|      1|       1.0|[0.07434944237918...|\n",
            "|      1|       1.0|[0.33333333333333...|\n",
            "|      1|       1.0|[0.07434944237918...|\n",
            "|      1|       1.0|[0.07434944237918...|\n",
            "|      1|       1.0|[0.07434944237918...|\n",
            "|      1|       1.0|[0.07434944237918...|\n",
            "|      0|       1.0|[0.07434944237918...|\n",
            "|      1|       1.0|[0.07434944237918...|\n",
            "|      1|       1.0|[0.07434944237918...|\n",
            "|      1|       1.0|[0.07434944237918...|\n",
            "|      1|       1.0|[0.07434944237918...|\n",
            "|      1|       1.0|[0.18081180811808...|\n",
            "|      1|       1.0|[0.18081180811808...|\n",
            "|      0|       1.0|[0.07434944237918...|\n",
            "|      1|       1.0|[0.07434944237918...|\n",
            "+-------+----------+--------------------+\n",
            "only showing top 20 rows\n",
            "\n"
          ]
        }
      ]
    }
  ]
}