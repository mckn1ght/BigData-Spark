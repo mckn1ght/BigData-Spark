{
  "nbformat": 4,
  "nbformat_minor": 0,
  "metadata": {
    "colab": {
      "provenance": []
    },
    "kernelspec": {
      "name": "python3",
      "display_name": "Python 3"
    },
    "language_info": {
      "name": "python"
    }
  },
  "cells": [
    {
      "cell_type": "code",
      "execution_count": 31,
      "metadata": {
        "id": "C3ciVMJxEuAv",
        "colab": {
          "base_uri": "https://localhost:8080/"
        },
        "outputId": "76af827d-102b-45d7-d480-fbc0d4e38ae7"
      },
      "outputs": [
        {
          "output_type": "stream",
          "name": "stdout",
          "text": [
            "Looking in indexes: https://pypi.org/simple, https://us-python.pkg.dev/colab-wheels/public/simple/\n",
            "Requirement already satisfied: pyspark in /usr/local/lib/python3.10/dist-packages (3.4.0)\n",
            "Requirement already satisfied: py4j==0.10.9.7 in /usr/local/lib/python3.10/dist-packages (from pyspark) (0.10.9.7)\n"
          ]
        }
      ],
      "source": [
        "!pip install pyspark\n",
        "\n",
        "from pyspark.sql import SparkSession\n"
      ]
    },
    {
      "cell_type": "code",
      "source": [
        "spark = SparkSession.builder.master(\"local[*]\").getOrCreate() #Seteaza numarul de core-uri de utilizat (* = toate)\n",
        "\n",
        "csv_path = \"/content/Students/StudentsPerformance/\" #Locatia datelor noastre\n",
        "\n",
        "df = spark.read.csv(csv_path, header=True, inferSchema=True) #Incarcarea datelor din CSV intr-un dataframe Spark"
      ],
      "metadata": {
        "id": "Os2EWH2aE7hi"
      },
      "execution_count": 32,
      "outputs": []
    },
    {
      "cell_type": "markdown",
      "source": [
        "# New section"
      ],
      "metadata": {
        "id": "2e-YRVLPWfsL"
      }
    },
    {
      "cell_type": "code",
      "source": [
        "table_name = \"my_table\" #definirea unei variabile table_name\n",
        "df.createOrReplaceTempView(table_name) #crearea unui view temporar\n",
        "query = \"SELECT * FROM my_table\" #definirea unei interogari SQL\n",
        "result = spark.sql(query) #rularea interogarii\n",
        "result.show() #afisarea rezultatelor"
      ],
      "metadata": {
        "colab": {
          "base_uri": "https://localhost:8080/"
        },
        "id": "UozC0iRomvU8",
        "outputId": "14e84e12-5d1e-4a40-ab37-897d07fc5cc8"
      },
      "execution_count": 33,
      "outputs": [
        {
          "output_type": "stream",
          "name": "stdout",
          "text": [
            "+------+--------------+---------------------------+------------+-----------------------+----------+-------------+-------------+\n",
            "|gender|race/ethnicity|parental level of education|       lunch|test preparation course|math score|reading score|writing score|\n",
            "+------+--------------+---------------------------+------------+-----------------------+----------+-------------+-------------+\n",
            "|female|       group B|          bachelor's degree|    standard|                   none|        72|           72|           74|\n",
            "|female|       group C|               some college|    standard|              completed|        69|           90|           88|\n",
            "|female|       group B|            master's degree|    standard|                   none|        90|           95|           93|\n",
            "|  male|       group A|         associate's degree|free/reduced|                   none|        47|           57|           44|\n",
            "|  male|       group C|               some college|    standard|                   none|        76|           78|           75|\n",
            "|female|       group B|         associate's degree|    standard|                   none|        71|           83|           78|\n",
            "|female|       group B|               some college|    standard|              completed|        88|           95|           92|\n",
            "|  male|       group B|               some college|free/reduced|                   none|        40|           43|           39|\n",
            "|  male|       group D|                high school|free/reduced|              completed|        64|           64|           67|\n",
            "|female|       group B|                high school|free/reduced|                   none|        38|           60|           50|\n",
            "|  male|       group C|         associate's degree|    standard|                   none|        58|           54|           52|\n",
            "|  male|       group D|         associate's degree|    standard|                   none|        40|           52|           43|\n",
            "|female|       group B|                high school|    standard|                   none|        65|           81|           73|\n",
            "|  male|       group A|               some college|    standard|              completed|        78|           72|           70|\n",
            "|female|       group A|            master's degree|    standard|                   none|        50|           53|           58|\n",
            "|female|       group C|           some high school|    standard|                   none|        69|           75|           78|\n",
            "|  male|       group C|                high school|    standard|                   none|        88|           89|           86|\n",
            "|female|       group B|           some high school|free/reduced|                   none|        18|           32|           28|\n",
            "|  male|       group C|            master's degree|free/reduced|              completed|        46|           42|           46|\n",
            "|female|       group C|         associate's degree|free/reduced|                   none|        54|           58|           61|\n",
            "+------+--------------+---------------------------+------------+-----------------------+----------+-------------+-------------+\n",
            "only showing top 20 rows\n",
            "\n"
          ]
        }
      ]
    },
    {
      "cell_type": "code",
      "source": [
        "df.printSchema() #afisarea schemei datelor"
      ],
      "metadata": {
        "colab": {
          "base_uri": "https://localhost:8080/"
        },
        "id": "K4kx8nECsRYx",
        "outputId": "2221cc0d-4bc4-4e50-9532-a2dfffd6f2b4"
      },
      "execution_count": 34,
      "outputs": [
        {
          "output_type": "stream",
          "name": "stdout",
          "text": [
            "root\n",
            " |-- gender: string (nullable = true)\n",
            " |-- race/ethnicity: string (nullable = true)\n",
            " |-- parental level of education: string (nullable = true)\n",
            " |-- lunch: string (nullable = true)\n",
            " |-- test preparation course: string (nullable = true)\n",
            " |-- math score: integer (nullable = true)\n",
            " |-- reading score: integer (nullable = true)\n",
            " |-- writing score: integer (nullable = true)\n",
            "\n"
          ]
        }
      ]
    },
    {
      "cell_type": "code",
      "source": [
        "df.describe().show()\n"
      ],
      "metadata": {
        "colab": {
          "base_uri": "https://localhost:8080/"
        },
        "id": "3VCzy-9Pvzwb",
        "outputId": "041b6d61-01ab-46e5-9a35-61de5104c3bf"
      },
      "execution_count": 35,
      "outputs": [
        {
          "output_type": "stream",
          "name": "stdout",
          "text": [
            "+-------+------+--------------+---------------------------+------------+-----------------------+------------------+------------------+-----------------+\n",
            "|summary|gender|race/ethnicity|parental level of education|       lunch|test preparation course|        math score|     reading score|    writing score|\n",
            "+-------+------+--------------+---------------------------+------------+-----------------------+------------------+------------------+-----------------+\n",
            "|  count|  1000|          1000|                       1000|        1000|                   1000|              1000|              1000|             1000|\n",
            "|   mean|  null|          null|                       null|        null|                   null|            66.089|            69.169|           68.054|\n",
            "| stddev|  null|          null|                       null|        null|                   null|15.163080096009454|14.600191937252223|15.19565701086966|\n",
            "|    min|female|       group A|         associate's degree|free/reduced|              completed|                 0|                17|               10|\n",
            "|    max|  male|       group E|           some high school|    standard|                   none|               100|               100|              100|\n",
            "+-------+------+--------------+---------------------------+------------+-----------------------+------------------+------------------+-----------------+\n",
            "\n"
          ]
        }
      ]
    },
    {
      "cell_type": "code",
      "source": [
        "df = df.withColumnRenamed('parental level of education', 'parentEducation')\n",
        "df = df.withColumnRenamed('test preparation course', 'preparationCourse')\n",
        "df = df.withColumnRenamed('math score', 'mathScore')\n",
        "df = df.withColumnRenamed('reading score', 'readingScore')\n",
        "df = df.withColumnRenamed('writing score', 'writingScore')\n",
        "df.describe().show()\n",
        "df.write.format('csv').mode('overwrite').option('header', 'true').save('/content/Students/StudentsPerformanceFormatted')\n"
      ],
      "metadata": {
        "id": "9Ac-0yoly6yJ",
        "colab": {
          "base_uri": "https://localhost:8080/"
        },
        "outputId": "6e5e9164-7d6f-4fe9-e928-fb8380cc2ec5"
      },
      "execution_count": 36,
      "outputs": [
        {
          "output_type": "stream",
          "name": "stdout",
          "text": [
            "+-------+------+--------------+------------------+------------+-----------------+------------------+------------------+-----------------+\n",
            "|summary|gender|race/ethnicity|   parentEducation|       lunch|preparationCourse|         mathScore|      readingScore|     writingScore|\n",
            "+-------+------+--------------+------------------+------------+-----------------+------------------+------------------+-----------------+\n",
            "|  count|  1000|          1000|              1000|        1000|             1000|              1000|              1000|             1000|\n",
            "|   mean|  null|          null|              null|        null|             null|            66.089|            69.169|           68.054|\n",
            "| stddev|  null|          null|              null|        null|             null|15.163080096009454|14.600191937252223|15.19565701086966|\n",
            "|    min|female|       group A|associate's degree|free/reduced|        completed|                 0|                17|               10|\n",
            "|    max|  male|       group E|  some high school|    standard|             none|               100|               100|              100|\n",
            "+-------+------+--------------+------------------+------------+-----------------+------------------+------------------+-----------------+\n",
            "\n"
          ]
        }
      ]
    },
    {
      "cell_type": "code",
      "source": [
        "csv_path = \"/content/Students/StudentsPerformanceFormatted\" #salvam locatia csv-ului formatat intr-o noua variabila\n",
        "df = spark.read.csv(csv_path, header=True, inferSchema=True) #incarcam noile date\n",
        "from pyspark.sql.functions import col, round, format_number, when #importam lucrul cu coloane\n",
        "\n",
        "df = df.withColumn('finalScore', (col('mathScore') + col('readingScore') + col('writingScore'))/3) #mai adaugam o coloana care determina media generala\n",
        "df = df.withColumn('finalScore', format_number(col('finalScore'), 2)) #afisam doar 2 decimale in aceasta noua coloana\n",
        "df = df.withColumn('admited', when(col('finalScore') > 50, True).otherwise(False))#mai adaugam o coloana care va afisa true pentru cazul in care studentul a fost admis(finalScore > 50) sau false pentru cazul in care nu a fost admis(finalScore < 50)\n",
        "df.show()#afisam rezultatele\n",
        "#Salvam dataframe-ul modificat \n",
        "df.write.mode('overwrite').format('csv').option('header', 'true').save('/content/Students/StudentsPerformanceFormatted2')"
      ],
      "metadata": {
        "colab": {
          "base_uri": "https://localhost:8080/"
        },
        "id": "nTgJCBpcd80a",
        "outputId": "9ff9ef2e-d7b5-4b64-bd01-970fc5cf4355"
      },
      "execution_count": 46,
      "outputs": [
        {
          "output_type": "stream",
          "name": "stdout",
          "text": [
            "+------+--------------+------------------+------------+-----------------+---------+------------+------------+----------+-------+\n",
            "|gender|race/ethnicity|   parentEducation|       lunch|preparationCourse|mathScore|readingScore|writingScore|finalScore|admited|\n",
            "+------+--------------+------------------+------------+-----------------+---------+------------+------------+----------+-------+\n",
            "|female|       group B| bachelor's degree|    standard|             none|       72|          72|          74|     72.67|   true|\n",
            "|female|       group C|      some college|    standard|        completed|       69|          90|          88|     82.33|   true|\n",
            "|female|       group B|   master's degree|    standard|             none|       90|          95|          93|     92.67|   true|\n",
            "|  male|       group A|associate's degree|free/reduced|             none|       47|          57|          44|     49.33|  false|\n",
            "|  male|       group C|      some college|    standard|             none|       76|          78|          75|     76.33|   true|\n",
            "|female|       group B|associate's degree|    standard|             none|       71|          83|          78|     77.33|   true|\n",
            "|female|       group B|      some college|    standard|        completed|       88|          95|          92|     91.67|   true|\n",
            "|  male|       group B|      some college|free/reduced|             none|       40|          43|          39|     40.67|  false|\n",
            "|  male|       group D|       high school|free/reduced|        completed|       64|          64|          67|     65.00|   true|\n",
            "|female|       group B|       high school|free/reduced|             none|       38|          60|          50|     49.33|  false|\n",
            "|  male|       group C|associate's degree|    standard|             none|       58|          54|          52|     54.67|   true|\n",
            "|  male|       group D|associate's degree|    standard|             none|       40|          52|          43|     45.00|  false|\n",
            "|female|       group B|       high school|    standard|             none|       65|          81|          73|     73.00|   true|\n",
            "|  male|       group A|      some college|    standard|        completed|       78|          72|          70|     73.33|   true|\n",
            "|female|       group A|   master's degree|    standard|             none|       50|          53|          58|     53.67|   true|\n",
            "|female|       group C|  some high school|    standard|             none|       69|          75|          78|     74.00|   true|\n",
            "|  male|       group C|       high school|    standard|             none|       88|          89|          86|     87.67|   true|\n",
            "|female|       group B|  some high school|free/reduced|             none|       18|          32|          28|     26.00|  false|\n",
            "|  male|       group C|   master's degree|free/reduced|        completed|       46|          42|          46|     44.67|  false|\n",
            "|female|       group C|associate's degree|free/reduced|             none|       54|          58|          61|     57.67|   true|\n",
            "+------+--------------+------------------+------------+-----------------+---------+------------+------------+----------+-------+\n",
            "only showing top 20 rows\n",
            "\n"
          ]
        }
      ]
    },
    {
      "cell_type": "code",
      "source": [
        "df.printSchema() #afisarea schemei datelor"
      ],
      "metadata": {
        "colab": {
          "base_uri": "https://localhost:8080/"
        },
        "id": "dp1x71pqxlRH",
        "outputId": "7272b81d-3254-4354-9ebe-48852ec7e8af"
      },
      "execution_count": 49,
      "outputs": [
        {
          "output_type": "stream",
          "name": "stdout",
          "text": [
            "root\n",
            " |-- gender: string (nullable = true)\n",
            " |-- race/ethnicity: string (nullable = true)\n",
            " |-- parentEducation: string (nullable = true)\n",
            " |-- lunch: string (nullable = true)\n",
            " |-- preparationCourse: string (nullable = true)\n",
            " |-- mathScore: integer (nullable = true)\n",
            " |-- readingScore: integer (nullable = true)\n",
            " |-- writingScore: integer (nullable = true)\n",
            " |-- finalScore: double (nullable = true)\n",
            " |-- admited: boolean (nullable = true)\n",
            "\n"
          ]
        }
      ]
    },
    {
      "cell_type": "code",
      "source": [
        "\n",
        " \n",
        "#salvam locatia csv-ului formatat intr-o noua variabila\n",
        "csv_path = \"/content/Students/StudentsPerformanceFormatted2\"\n",
        "\n",
        "#incarcam noile date\n",
        "df = spark.read.csv(csv_path, header=True, inferSchema=True) \n",
        "\n",
        "df.show()"
      ],
      "metadata": {
        "colab": {
          "base_uri": "https://localhost:8080/"
        },
        "id": "zZitqp6XyTjh",
        "outputId": "55b6ecc1-fd8f-4dd3-9557-f9f7eb63d449"
      },
      "execution_count": 62,
      "outputs": [
        {
          "output_type": "stream",
          "name": "stdout",
          "text": [
            "+------+--------------+------------------+------------+-----------------+---------+------------+------------+----------+-------+\n",
            "|gender|race/ethnicity|   parentEducation|       lunch|preparationCourse|mathScore|readingScore|writingScore|finalScore|admited|\n",
            "+------+--------------+------------------+------------+-----------------+---------+------------+------------+----------+-------+\n",
            "|female|       group B| bachelor's degree|    standard|             none|       72|          72|          74|     72.67|   true|\n",
            "|female|       group C|      some college|    standard|        completed|       69|          90|          88|     82.33|   true|\n",
            "|female|       group B|   master's degree|    standard|             none|       90|          95|          93|     92.67|   true|\n",
            "|  male|       group A|associate's degree|free/reduced|             none|       47|          57|          44|     49.33|  false|\n",
            "|  male|       group C|      some college|    standard|             none|       76|          78|          75|     76.33|   true|\n",
            "|female|       group B|associate's degree|    standard|             none|       71|          83|          78|     77.33|   true|\n",
            "|female|       group B|      some college|    standard|        completed|       88|          95|          92|     91.67|   true|\n",
            "|  male|       group B|      some college|free/reduced|             none|       40|          43|          39|     40.67|  false|\n",
            "|  male|       group D|       high school|free/reduced|        completed|       64|          64|          67|      65.0|   true|\n",
            "|female|       group B|       high school|free/reduced|             none|       38|          60|          50|     49.33|  false|\n",
            "|  male|       group C|associate's degree|    standard|             none|       58|          54|          52|     54.67|   true|\n",
            "|  male|       group D|associate's degree|    standard|             none|       40|          52|          43|      45.0|  false|\n",
            "|female|       group B|       high school|    standard|             none|       65|          81|          73|      73.0|   true|\n",
            "|  male|       group A|      some college|    standard|        completed|       78|          72|          70|     73.33|   true|\n",
            "|female|       group A|   master's degree|    standard|             none|       50|          53|          58|     53.67|   true|\n",
            "|female|       group C|  some high school|    standard|             none|       69|          75|          78|      74.0|   true|\n",
            "|  male|       group C|       high school|    standard|             none|       88|          89|          86|     87.67|   true|\n",
            "|female|       group B|  some high school|free/reduced|             none|       18|          32|          28|      26.0|  false|\n",
            "|  male|       group C|   master's degree|free/reduced|        completed|       46|          42|          46|     44.67|  false|\n",
            "|female|       group C|associate's degree|free/reduced|             none|       54|          58|          61|     57.67|   true|\n",
            "+------+--------------+------------------+------------+-----------------+---------+------------+------------+----------+-------+\n",
            "only showing top 20 rows\n",
            "\n"
          ]
        }
      ]
    },
    {
      "cell_type": "markdown",
      "source": [
        "SPARK SQL"
      ],
      "metadata": {
        "id": "LOkgyYtNfk4B"
      }
    },
    {
      "cell_type": "markdown",
      "source": [
        "1.Sa se afiseze toti studenții care nu au obținut o nota de trecere la matematica"
      ],
      "metadata": {
        "id": "fVBdPk4xgota"
      }
    },
    {
      "cell_type": "code",
      "source": [
        "df.createOrReplaceTempView(\"students\")\n",
        "\n",
        "result = spark.sql(\"SELECT * FROM students WHERE mathScore < 50 ORDER BY finalScore DESC\")\n",
        "\n",
        "result.show()\n"
      ],
      "metadata": {
        "id": "ey1q-jWHV5_E",
        "outputId": "78816d8f-0ca8-4316-8e1b-d0a50ac74786",
        "colab": {
          "base_uri": "https://localhost:8080/"
        }
      },
      "execution_count": 61,
      "outputs": [
        {
          "output_type": "stream",
          "name": "stdout",
          "text": [
            "+------+--------------+-----------------+------------+-----------------+---------+------------+------------+----------+-------+\n",
            "|gender|race/ethnicity|  parentEducation|       lunch|preparationCourse|mathScore|readingScore|writingScore|finalScore|admited|\n",
            "+------+--------------+-----------------+------------+-----------------+---------+------------+------------+----------+-------+\n",
            "|female|       group C|     some college|free/reduced|        completed|       45|          73|          70|     62.67|   true|\n",
            "|female|       group A| some high school|    standard|             none|       48|          66|          65|     59.67|   true|\n",
            "|female|       group C|     some college|free/reduced|        completed|       42|          66|          69|      59.0|   true|\n",
            "|female|       group C|     some college|free/reduced|             none|       46|          64|          66|     58.67|   true|\n",
            "|female|       group D|     some college|free/reduced|             none|       49|          65|          61|     58.33|   true|\n",
            "|female|       group C|bachelor's degree|free/reduced|        completed|       47|          62|          66|     58.33|   true|\n",
            "|female|       group D|  master's degree|free/reduced|        completed|       47|          58|          67|     57.33|   true|\n",
            "|female|       group B|      high school|    standard|             none|       48|          62|          60|     56.67|   true|\n",
            "|female|       group A|     some college|free/reduced|             none|       49|          65|          55|     56.33|   true|\n",
            "|female|       group C|bachelor's degree|free/reduced|             none|       44|          63|          62|     56.33|   true|\n",
            "|female|       group D| some high school|free/reduced|        completed|       40|          65|          64|     56.33|   true|\n",
            "|female|       group C| some high school|    standard|             none|       49|          63|          56|      56.0|   true|\n",
            "|female|       group A|bachelor's degree|    standard|             none|       45|          59|          64|      56.0|   true|\n",
            "|female|       group D|      high school|    standard|             none|       45|          63|          59|     55.67|   true|\n",
            "|  male|       group A|bachelor's degree|free/reduced|        completed|       49|          58|          60|     55.67|   true|\n",
            "|female|       group D|     some college|free/reduced|             none|       49|          58|          60|     55.67|   true|\n",
            "|female|       group A| some high school|free/reduced|             none|       44|          64|          58|     55.33|   true|\n",
            "|female|       group C|bachelor's degree|free/reduced|             none|       43|          62|          61|     55.33|   true|\n",
            "|female|       group C|      high school|free/reduced|             none|       42|          62|          60|     54.67|   true|\n",
            "|female|       group B|     some college|free/reduced|        completed|       48|          56|          58|      54.0|   true|\n",
            "+------+--------------+-----------------+------------+-----------------+---------+------------+------------+----------+-------+\n",
            "only showing top 20 rows\n",
            "\n"
          ]
        }
      ]
    }
  ]
}